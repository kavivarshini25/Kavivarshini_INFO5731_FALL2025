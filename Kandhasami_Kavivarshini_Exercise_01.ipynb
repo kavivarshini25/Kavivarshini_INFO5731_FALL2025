{
  "cells": [
    {
      "cell_type": "markdown",
      "metadata": {
        "id": "view-in-github",
        "colab_type": "text"
      },
      "source": [
        "<a href=\"https://colab.research.google.com/github/kavivarshini25/Kavivarshini_INFO5731_FALL2025/blob/main/Kandhasami_Kavivarshini_Exercise_01.ipynb\" target=\"_parent\"><img src=\"https://colab.research.google.com/assets/colab-badge.svg\" alt=\"Open In Colab\"/></a>"
      ]
    },
    {
      "cell_type": "markdown",
      "metadata": {
        "id": "DymRJbxDBCnf"
      },
      "source": [
        "# **INFO5731 Assiginment 1**\n",
        "\n",
        "This exercise covers a variety of fundamental concepts in Python and is designed to help students improve their coding skills and problem-solving abilities.\n",
        "\n",
        "**Expectations**:\n",
        "*   Students are expected to complete the exercise during lecture period to meet the active participation criteria of the course.\n",
        "*   Use the provided .*ipynb* document to write your code & respond to the questions. Avoid generating a new file.\n",
        "*   Write complete answers and run all the cells before submission.\n",
        "*   Make sure the submission is \"clean\"; *i.e.*, no unnecessary code cells.\n",
        "*   Once finished, allow shared rights from top right corner (*see Canvas for details*).\n",
        "\n",
        "**Total points**: 100\n",
        "\n",
        "**Deadline**: This Assiginment-1 is due by Sunday Midnight\n",
        "\n",
        "**Late submissions cannot be considered, and no requests will be answered. Manage your time accordingly.**\n"
      ]
    },
    {
      "cell_type": "markdown",
      "source": [
        "## Question 1\n",
        "Write a Python program that  prompts the user to input the length and width of a rectangle, and then calculates and displays the area of the rectangle."
      ],
      "metadata": {
        "id": "FBKvD6O_TY6e"
      }
    },
    {
      "cell_type": "code",
      "source": [
        "# write your answer here\n",
        "length=float(input(\"Enter the length:\"))\n",
        "width=float(input(\"Enter the width:\"))\n",
        "ans=length*width\n",
        "print(\"Area of the Rectangle is\",ans)"
      ],
      "metadata": {
        "id": "cikVKDXdTbzE",
        "colab": {
          "base_uri": "https://localhost:8080/"
        },
        "outputId": "99c17859-28f1-400e-8289-2bbbf5586703"
      },
      "execution_count": 26,
      "outputs": [
        {
          "output_type": "stream",
          "name": "stdout",
          "text": [
            "Enter the length:7\n",
            "Enter the width:9\n",
            "Area of the Rectangle is 63.0\n"
          ]
        }
      ]
    },
    {
      "cell_type": "markdown",
      "source": [
        "## Question 2\n",
        "Create a Python program that interactively takes two numerical inputs from the user and swaps their values without utilizing an extra variable."
      ],
      "metadata": {
        "id": "E9RqrlwdTfvl"
      }
    },
    {
      "cell_type": "code",
      "source": [
        "# write your answer here\n",
        "a=int(input(\"Enter the value of a:\"))\n",
        "b=int(input(\"Enter the value of b:\"))\n",
        "a=a+b\n",
        "b=a-b\n",
        "a=a-b\n",
        "print(\"After swapping, the value of a is:\",a)\n",
        "print(\"After swapping, the value of b is:\",b)"
      ],
      "metadata": {
        "id": "4XvRknixTh1g",
        "colab": {
          "base_uri": "https://localhost:8080/"
        },
        "outputId": "94210a68-336f-43f7-a179-dd90ae89e8e6"
      },
      "execution_count": 25,
      "outputs": [
        {
          "output_type": "stream",
          "name": "stdout",
          "text": [
            "Enter the value of a:5\n",
            "Enter the value of b:9\n",
            "After swapping, the value of a is: 9\n",
            "After swapping, the value of b is: 5\n"
          ]
        }
      ]
    },
    {
      "cell_type": "markdown",
      "metadata": {
        "id": "03jb4GZsBkBS"
      },
      "source": [
        "## Question 3\n",
        "Write a Python script to determine and print the length of a user-input string."
      ]
    },
    {
      "cell_type": "code",
      "execution_count": 27,
      "metadata": {
        "id": "YaGLbSHHB8Ej",
        "colab": {
          "base_uri": "https://localhost:8080/"
        },
        "outputId": "1950a4c3-0547-4798-9d87-311145eef1c5"
      },
      "outputs": [
        {
          "output_type": "stream",
          "name": "stdout",
          "text": [
            "Enter the string:kavivarshini\n",
            "Length of the user input string is 12\n"
          ]
        }
      ],
      "source": [
        "# write your answer here\n",
        "a=input(\"Enter the string:\")\n",
        "chrcnt=0\n",
        "for chr in a:\n",
        "  chrcnt+=1\n",
        "print(\"Length of the user input string is\",chrcnt)\n",
        "\n"
      ]
    },
    {
      "cell_type": "markdown",
      "metadata": {
        "id": "jJDe71iLB616"
      },
      "source": [
        "## Question 4\n",
        "Construct a Python program that counts and displays the occurrences of each character in a given string.\n",
        "\n",
        "Sample String: 'openai.ai',\n",
        "\n",
        "Expected Result: {'a': 2, 'i': 2, '.': 1, 'o': 1, 'p': 1, 'e': 1, 'n': 1}"
      ]
    },
    {
      "cell_type": "code",
      "execution_count": 29,
      "metadata": {
        "id": "MtKskTzbCLaU",
        "colab": {
          "base_uri": "https://localhost:8080/"
        },
        "outputId": "7f0a043a-77ed-45a5-a0d3-b28814f87a96"
      },
      "outputs": [
        {
          "output_type": "stream",
          "name": "stdout",
          "text": [
            "Enter the string here:kavi.varsh.gowtham\n",
            "The occurrences of each character in a given string is {'k': 1, 'a': 3, 'v': 2, 'i': 1, '.': 2, 'r': 1, 's': 1, 'h': 2, 'g': 1, 'o': 1, 'w': 1, 't': 1, 'm': 1}\n"
          ]
        }
      ],
      "source": [
        "# write your answer here\n",
        "a=input(\"Enter the string here:\")\n",
        "d={}\n",
        "for chr in a:\n",
        "  d[chr]=d.get(chr,0)+1\n",
        "print(\"The occurrences of each character in a given string is\", d)\n",
        "\n"
      ]
    },
    {
      "cell_type": "markdown",
      "metadata": {
        "id": "55W9AMdXCSpV"
      },
      "source": [
        "## Question 5\n",
        "Design a Python code to calculate the sum of all elements in a user-provided list."
      ]
    },
    {
      "cell_type": "code",
      "execution_count": 30,
      "metadata": {
        "id": "I57NXsauCec2",
        "colab": {
          "base_uri": "https://localhost:8080/"
        },
        "outputId": "7419cd9d-5a71-4cec-9ff1-0005b52f7834"
      },
      "outputs": [
        {
          "output_type": "stream",
          "name": "stdout",
          "text": [
            "Enter the numbers with space:3 40 60 9 2 7\n",
            "Sum of all elements is 121\n"
          ]
        }
      ],
      "source": [
        "# write your answer here\n",
        "l=list(map(int, input(\"Enter the numbers with space:\").split()))\n",
        "s=0\n",
        "for i in range(0,len(l)):\n",
        "  s+=l[i]\n",
        "print(\"Sum of all elements is\",s)\n"
      ]
    },
    {
      "cell_type": "markdown",
      "metadata": {
        "id": "4ulBZ6yhCi9F"
      },
      "source": [
        "## Question 6\n",
        "Write a Python program that modifies a given string by replacing all occurrences of its first character with '$', excluding the first character itself.\n",
        "\n",
        "\n",
        "Sample String : 'restart‘\n",
        "Expected Result : 'resta\\$t'"
      ]
    },
    {
      "cell_type": "code",
      "execution_count": 33,
      "metadata": {
        "id": "Fj0XhwbBCw2o",
        "colab": {
          "base_uri": "https://localhost:8080/"
        },
        "outputId": "b5767131-ce1e-4916-ac80-6e93a840402b"
      },
      "outputs": [
        {
          "output_type": "stream",
          "name": "stdout",
          "text": [
            "Enter the string here:kavik\n",
            "ModifiedString is: kavi$\n"
          ]
        }
      ],
      "source": [
        "# write your answer here\n",
        "s = input(\"Enter the string here:\")\n",
        "frstchr = s[0]\n",
        "nwstrng = frstchr + s[1:].replace(frstchr,'$')\n",
        "print(\"ModifiedString is:\", nwstrng)\n"
      ]
    },
    {
      "cell_type": "markdown",
      "source": [
        "## Question 7\n",
        "Write a Python program using a while loop to compute the factorial of a user-supplied number."
      ],
      "metadata": {
        "id": "qVXA3q7ET5JI"
      }
    },
    {
      "cell_type": "code",
      "source": [
        "# write your answer here\n",
        "num=int(input(\"Enter the number:\"))\n",
        "n=num\n",
        "fact=1\n",
        "while n>0:\n",
        "  fact*=n\n",
        "  n-=1\n",
        "print(fact)\n",
        "\n"
      ],
      "metadata": {
        "id": "Lbt7R6UkT7BA",
        "colab": {
          "base_uri": "https://localhost:8080/"
        },
        "outputId": "2f3d8bc7-a119-441e-b63d-d6be094e7195"
      },
      "execution_count": 34,
      "outputs": [
        {
          "output_type": "stream",
          "name": "stdout",
          "text": [
            "Enter the number:4\n",
            "24\n"
          ]
        }
      ]
    },
    {
      "cell_type": "markdown",
      "source": [
        "## Question 8\n",
        "Create a program that accepts a list of numbers as input and outputs a new list containing only the even numbers."
      ],
      "metadata": {
        "id": "6YfbzXMNT--R"
      }
    },
    {
      "cell_type": "code",
      "source": [
        "# write your answer here\n",
        "l=list(map(int,input(\"Enter the numbers with space:\").split()))\n",
        "nwlst=[]\n",
        "for num in l:\n",
        "  if num%2==0:\n",
        "    nwlst.append(num)\n",
        "print(nwlst)\n",
        "\n"
      ],
      "metadata": {
        "id": "54q7wMQPUAKu",
        "colab": {
          "base_uri": "https://localhost:8080/"
        },
        "outputId": "89fdc0d1-e808-4c08-c74b-3ecac6adf800"
      },
      "execution_count": 35,
      "outputs": [
        {
          "output_type": "stream",
          "name": "stdout",
          "text": [
            "Enter the numbers with space:24 26 27 29 28 43 53 98 60\n",
            "[24, 26, 28, 98, 60]\n"
          ]
        }
      ]
    },
    {
      "cell_type": "markdown",
      "metadata": {
        "id": "_bIP7s1MCzue"
      },
      "source": [
        "## Question 9\n",
        "Design a Python function to check if a number is prime.\n"
      ]
    },
    {
      "cell_type": "code",
      "execution_count": 37,
      "metadata": {
        "id": "w79QilHXD3Mg",
        "colab": {
          "base_uri": "https://localhost:8080/"
        },
        "outputId": "8125e4da-6b30-41e3-cdfc-940fcafb3917"
      },
      "outputs": [
        {
          "output_type": "stream",
          "name": "stdout",
          "text": [
            "Enter the number:7\n",
            "The given number is a prime number\n"
          ]
        }
      ],
      "source": [
        "# write your answer here\n",
        "num=int(input(\"Enter the number:\"))\n",
        "if num>1:\n",
        "  for i in range (2,int(num**0.5)+1):\n",
        "    if num%i==0:\n",
        "      print(\"The given number is not a prime number\")\n",
        "      break\n",
        "  else:\n",
        "      print(\"The given number is a prime number\")\n",
        "else:\n",
        "  print(\"The given number is not a prime number\")\n",
        "\n",
        "\n"
      ]
    },
    {
      "cell_type": "markdown",
      "metadata": {
        "id": "xCa2bK9aD4Q3"
      },
      "source": [
        "## Question 10\n",
        "Write a Python program to concatenate following dictionaries to create a new one.\n",
        "\n",
        "Sample Dictionary : dic1={1:10, 2:20}, dic2={3:30, 4:40}, dic3={5:50,6:60},\n",
        "\n",
        "Expected Result : {1: 10, 2: 20, 3: 30, 4: 40, 5: 50, 6: 60}\n"
      ]
    },
    {
      "cell_type": "code",
      "execution_count": 39,
      "metadata": {
        "id": "_z4aLqAbEET1",
        "colab": {
          "base_uri": "https://localhost:8080/"
        },
        "outputId": "74d6d24b-59a6-4b79-805b-d9a4e9c15cab"
      },
      "outputs": [
        {
          "output_type": "stream",
          "name": "stdout",
          "text": [
            "The new dictionary is: {1: 10, 2: 20, 3: 30, 4: 40, 5: 50, 6: 60}\n"
          ]
        }
      ],
      "source": [
        "# write your answer here\n",
        "dic1={1:10, 2:20}\n",
        "dic2={3:30, 4:40}\n",
        "dic3={5:50,6:60}\n",
        "dic4={}\n",
        "for d in (dic1,dic2,dic3,dic4):\n",
        "  dic4.update(d)\n",
        "print(\"The new dictionary is:\",dic4)\n",
        "\n"
      ]
    },
    {
      "cell_type": "markdown",
      "source": [
        "## Question 11\n",
        "Design a Python function that takes a tuple of integers as input and returns the largest and smallest elements."
      ],
      "metadata": {
        "id": "bkyZ2xSZUOst"
      }
    },
    {
      "cell_type": "code",
      "source": [
        "# write your answer here\n",
        "def largesmall_num(num):\n",
        "  if not num:\n",
        "    return \"The Tuple cannot be empty\"\n",
        "  return f\"The largest element is  {max(num)} and smallest element is {min(num)}\"\n",
        "l=tuple(map(int,input(\"Enter the set of numbers with space here:\").split()))\n",
        "print(largesmall_num(l))\n"
      ],
      "metadata": {
        "id": "3FdLRBKOUQEd",
        "colab": {
          "base_uri": "https://localhost:8080/"
        },
        "outputId": "1affdf32-309d-4034-ab4b-898bc6db6cf0"
      },
      "execution_count": 40,
      "outputs": [
        {
          "output_type": "stream",
          "name": "stdout",
          "text": [
            "Enter the set of numbers with space here:40 800 790 59 20 18 500\n",
            "The largest element is  800 and smallest element is 18\n"
          ]
        }
      ]
    },
    {
      "cell_type": "markdown",
      "source": [
        "## Question 12\n",
        "Write a Python program that counts the frequency of each character in a given string and stores it in a dictionary."
      ],
      "metadata": {
        "id": "O0TVi3gKUTpp"
      }
    },
    {
      "cell_type": "code",
      "source": [
        "# write your answer here\n",
        "s=input()\n",
        "d={}\n",
        "n=len(s)\n",
        "for chr in s:\n",
        "  d[chr]=d.get(chr,0)+1\n",
        "for chr in d:\n",
        "  d[chr]=d[chr]/n\n",
        "print(d)"
      ],
      "metadata": {
        "id": "lAtfSfZXUU-h",
        "colab": {
          "base_uri": "https://localhost:8080/"
        },
        "outputId": "ba4185dc-c087-419c-8fec-2451011c94f7"
      },
      "execution_count": 41,
      "outputs": [
        {
          "output_type": "stream",
          "name": "stdout",
          "text": [
            "kavivarshini\n",
            "{'k': 0.08333333333333333, 'a': 0.16666666666666666, 'v': 0.16666666666666666, 'i': 0.25, 'r': 0.08333333333333333, 's': 0.08333333333333333, 'h': 0.08333333333333333, 'n': 0.08333333333333333}\n"
          ]
        }
      ]
    },
    {
      "cell_type": "markdown",
      "metadata": {
        "id": "0v48Vqa7FrQh"
      },
      "source": [
        "## Question 13\n",
        "Implement a Python script to identify duplicate elements in a provided array of integers. Return -1 if there are no duplicates."
      ]
    },
    {
      "cell_type": "code",
      "execution_count": 42,
      "metadata": {
        "id": "7WEmgq-DF2P1",
        "colab": {
          "base_uri": "https://localhost:8080/"
        },
        "outputId": "ba676935-612a-420f-fce3-a27306c81a20"
      },
      "outputs": [
        {
          "output_type": "stream",
          "name": "stdout",
          "text": [
            "Enter the numbers with space here:5 3 8 5 1 3 9 7 8 40\n",
            "[5, 3, 8]\n"
          ]
        }
      ],
      "source": [
        "# write your answer here\n",
        "def duplicate_elements(num):\n",
        "  nw=[]  #new array to store the numbers\n",
        "  s=[]   #array to store duplicate numbers\n",
        "  for n in num:\n",
        "    if n not in nw:\n",
        "      nw.append(n)\n",
        "    elif n not in s:\n",
        "      s.append(n)\n",
        "  if len(s)==0:\n",
        "    return -1\n",
        "  else:\n",
        "    return s\n",
        "\n",
        "a=list(map(int,input(\"Enter the numbers with space here:\").split()))\n",
        "print(duplicate_elements(a))\n",
        "\n"
      ]
    },
    {
      "cell_type": "markdown",
      "metadata": {
        "id": "vD5PYLMuGga_"
      },
      "source": [
        "## Question 14\n",
        "Write a Python script to find the common elements between two lists."
      ]
    },
    {
      "cell_type": "code",
      "execution_count": 43,
      "metadata": {
        "id": "t0D5kdJUGjjw",
        "colab": {
          "base_uri": "https://localhost:8080/"
        },
        "outputId": "049e2520-471b-4fbd-8f36-f821ec3624d4"
      },
      "outputs": [
        {
          "output_type": "stream",
          "name": "stdout",
          "text": [
            "Enter the values for first list with space:2 7 9 4 1 78 90\n",
            "Enter the values for second list with space:46 38 97 7 20 2 43 4 78\n",
            "[2, 7, 4, 78]\n"
          ]
        }
      ],
      "source": [
        "# write your answer here\n",
        "a=list(map(int,input(\"Enter the values for first list with space:\").split()))\n",
        "b=list(map(int,input(\"Enter the values for second list with space:\").split()))\n",
        "c=[]  # new list to store common elements\n",
        "for num in a:\n",
        "  if num in b:\n",
        "    c.append(num)\n",
        "if len(c)==0:\n",
        "  print(\"There is no commom elements between two lists\")\n",
        "else:\n",
        "  print(c)\n",
        "\n"
      ]
    },
    {
      "cell_type": "markdown",
      "metadata": {
        "id": "uHkd-y5VhVWC"
      },
      "source": [
        "## Question 15\n",
        "Write a Python program to randomly divide the students in this class into maximum of eight groups for term projects, each group should have at least 4 students but no more than 6 students (including 6).\n",
        "\n",
        "Here is the students list:\n",
        "\n",
        "student_list_spring_2024=[rb0846,\n",
        "ac1964,\n",
        "hc0612,\n",
        "md0912,\n",
        "ad1198,\n",
        "md0894,\n",
        "md0825,\n",
        "vg0598,\n",
        "vg0433,\n",
        "mh1068,\n",
        "yj0173,\n",
        "pk0553,\n",
        "tk0411,\n",
        "srk0204,\n",
        "sk2922,\n",
        "sk2936,\n",
        "mk1302,\n",
        "mk1317,\n",
        "tk0412,\n",
        "vk0656,\n",
        "sm2985,\n",
        "mm2372,\n",
        "un0045,\n",
        "an0892,\n",
        "sn0913,\n",
        "gp0252,\n",
        "ap1484,\n",
        "mr1765,\n",
        "sr1385,\n",
        "sr1335,\n",
        "hs0665,\n",
        "ms2060,\n",
        "gt0217,\n",
        "nt0385,\n",
        "tv0186,\n",
        "sv1394,\n",
        "sv1752,\n",
        "sv1555,\n",
        "sy0594\n",
        "]\n"
      ]
    },
    {
      "cell_type": "code",
      "execution_count": 8,
      "metadata": {
        "id": "3iGbmcOBhTwy",
        "colab": {
          "base_uri": "https://localhost:8080/"
        },
        "outputId": "32f948e5-5efc-45a4-904b-f9ae56599651"
      },
      "outputs": [
        {
          "output_type": "stream",
          "name": "stdout",
          "text": [
            "Group 1 for Term Project (5 students): ['mm2372', 'hs0665', 'tk0411', 'yj0173', 'sm2985']\n",
            "Group 2 for Term Project (5 students): ['mk1302', 'tk0412', 'ac1964', 'sy0594', 'sk2936']\n",
            "Group 3 for Term Project (5 students): ['sv1752', 'sv1555', 'vg0598', 'pk0553', 'hc0612']\n",
            "Group 4 for Term Project (5 students): ['vg0433', 'mr1765', 'sk2922', 'mk1317', 'nt0385']\n",
            "Group 5 for Term Project (5 students): ['md0825', 'gp0252', 'sn0913', 'rb0846', 'tv0186']\n",
            "Group 6 for Term Project (5 students): ['gt0217', 'md0912', 'vk0656', 'an0892', 'ap1484']\n",
            "Group 7 for Term Project (5 students): ['sr1385', 'mh1068', 'un0045', 'ms2060', 'sr1335']\n",
            "Group 8 for Term Project (4 students): ['srk0204', 'md0894', 'ad1198', 'sv1394']\n"
          ]
        }
      ],
      "source": [
        "# write your answer here\n",
        "\n",
        "import random\n",
        "\n",
        "student_list_spring_2024=['rb0846', 'ac1964', 'hc0612', 'md0912', 'ad1198', 'md0894', 'md0825', 'vg0598', 'vg0433', 'mh1068', 'yj0173', 'pk0553', 'tk0411', 'srk0204', 'sk2922', 'sk2936', 'mk1302', 'mk1317', 'tk0412', 'vk0656', 'sm2985', 'mm2372', 'un0045', 'an0892', 'sn0913', 'gp0252', 'ap1484', 'mr1765', 'sr1385', 'sr1335', 'hs0665', 'ms2060', 'gt0217', 'nt0385', 'tv0186', 'sv1394', 'sv1752', 'sv1555', 'sy0594' ]\n",
        "def randiv_studs(studs):\n",
        "    random.shuffle(studs)\n",
        "    tn = len(studs)\n",
        "    mins = 4\n",
        "    maxs= 6\n",
        "    max_group = 8\n",
        "    for groups_count in range(max_group, 0, -1):\n",
        "      if groups_count * mins <= tn <= groups_count * maxs:\n",
        "        base_size = tn // groups_count\n",
        "        remainder = tn % groups_count\n",
        "        g= []\n",
        "        start = 0\n",
        "        for i in range(groups_count):\n",
        "          grp_size = base_size + (1 if i < remainder else 0)\n",
        "          g.append(studs[start:start+grp_size])\n",
        "          start += grp_size\n",
        "        return g\n",
        "\n",
        "    return []\n",
        "\n",
        "grps = randiv_studs(student_list_spring_2024)\n",
        "\n",
        "for i, group in enumerate(grps, 1):\n",
        "    print(f\"Group {i} for Term Project ({len(group)} students): {group}\")\n",
        "\n",
        "\n",
        "\n"
      ]
    },
    {
      "cell_type": "markdown",
      "metadata": {
        "id": "fmZ9vX20Qs3d"
      },
      "source": [
        "## Question 16\n",
        "Create a program that takes a positive integer 'n' as input and prints the count of even numbers from 1 to 'n'. Optimize the loop using the continue statement."
      ]
    },
    {
      "cell_type": "code",
      "execution_count": 44,
      "metadata": {
        "id": "W8Jw6sWMQs3d",
        "colab": {
          "base_uri": "https://localhost:8080/"
        },
        "outputId": "0a3d5671-28c1-426a-a7b0-f50f043b6c1e"
      },
      "outputs": [
        {
          "output_type": "stream",
          "name": "stdout",
          "text": [
            "Enter a positive integer:7\n",
            "The count of even numbers from 1 to n is 3\n"
          ]
        }
      ],
      "source": [
        "# write your answer here\n",
        "n=int(input(\"Enter a positive integer:\"))\n",
        "if n<=0:\n",
        "  print(\"The given number is not a positive integer, please enter positive integer\")\n",
        "else:\n",
        "  count=0\n",
        "  for num in range(1,n+1):\n",
        "    if num%2 !=0:\n",
        "      continue\n",
        "    count+=1\n",
        "  print(\"The count of even numbers from 1 to n is\",count)\n",
        "\n",
        "\n"
      ]
    },
    {
      "cell_type": "markdown",
      "metadata": {
        "id": "hvq4APMhQs3d"
      },
      "source": [
        "## Question 17\n",
        "Develop a Python function called 'count_vowels' that takes a string as input and returns the count of vowels (both lowercase and uppercase) present in the string, ignoring spaces and non-alphabetic characters."
      ]
    },
    {
      "cell_type": "code",
      "execution_count": 45,
      "metadata": {
        "id": "ZnoxhSglQs3d",
        "colab": {
          "base_uri": "https://localhost:8080/"
        },
        "outputId": "edc9d4d5-da13-492e-d6b9-c1be96b1f1d6"
      },
      "outputs": [
        {
          "output_type": "stream",
          "name": "stdout",
          "text": [
            "Enter the string:kavivourshini\n",
            "The count of vowels in the given string is 6\n"
          ]
        }
      ],
      "source": [
        "# write your answer here\n",
        "def count_vowels(s):\n",
        "  v=['a','e','i','o','u','A','E','I','O','U']\n",
        "  count=0\n",
        "  for chr in s:\n",
        "    if chr in v and chr.isalpha():\n",
        "      count+=1\n",
        "  return count\n",
        "\n",
        "a=input(\"Enter the string:\")\n",
        "print(\"The count of vowels in the given string is\",count_vowels(a))\n"
      ]
    },
    {
      "cell_type": "markdown",
      "source": [
        "## Question 18\n",
        "Create a custom exception named ValueTooSmallError in Python. Write a program that takes user input for an age, and if the entered age is less than 18, raise the ValueTooSmallError with an appropriate error message."
      ],
      "metadata": {
        "id": "55FWoSJPVVM6"
      }
    },
    {
      "cell_type": "code",
      "source": [
        "# write your answer here\n",
        "\n",
        "class ValueTooSmallError(Exception):\n",
        "    pass\n",
        "try:\n",
        "    age = int(input(\"Enter the age: \"))\n",
        "    if age < 18:\n",
        "        raise ValueTooSmallError(\"The age is less than 18 and it should be above 18 \")\n",
        "    else:\n",
        "        print(\"The age you have entered is valid\")\n",
        "except ValueTooSmallError as e:\n",
        "    print(f\"Error: {e}\")\n",
        "except ValueError:\n",
        "    print(\"Invalid input! Please enter a valid integer.\")\n"
      ],
      "metadata": {
        "id": "hwtr1wZmVX5A",
        "colab": {
          "base_uri": "https://localhost:8080/"
        },
        "outputId": "0b13e044-faf5-477a-eabb-bbd198cc495a"
      },
      "execution_count": 10,
      "outputs": [
        {
          "output_type": "stream",
          "name": "stdout",
          "text": [
            "Enter the age: 8\n",
            "Error: The age is less than 18 and it should be above 18 \n"
          ]
        }
      ]
    },
    {
      "cell_type": "markdown",
      "source": [
        "## Question 19\n",
        "Develop a script that reverses a given string without using built-in reverse functions."
      ],
      "metadata": {
        "id": "Q9ecagcaVazW"
      }
    },
    {
      "cell_type": "code",
      "source": [
        "# write your answer here\n",
        "s=input(\"Enter your string here:\")\n",
        "output=''\n",
        "i=len(s)-1\n",
        "while i>=0:\n",
        "  output=output+s[i]\n",
        "  i=i-1\n",
        "print(\"The reversed string is:\",output)\n",
        "\n"
      ],
      "metadata": {
        "id": "gycgckoAVZjR",
        "colab": {
          "base_uri": "https://localhost:8080/"
        },
        "outputId": "0321c1e9-a334-41a0-a443-b18827d6546c"
      },
      "execution_count": 12,
      "outputs": [
        {
          "output_type": "stream",
          "name": "stdout",
          "text": [
            "Enter your string here:Kavivarsh\n",
            "The reversed string is: hsravivaK\n"
          ]
        }
      ]
    },
    {
      "cell_type": "markdown",
      "source": [
        "## Question 20\n",
        "Implement a Python script to generate a random password of a specified length."
      ],
      "metadata": {
        "id": "ZFG6RibifMLu"
      }
    },
    {
      "cell_type": "code",
      "source": [
        "# write your answer here\n",
        "import random\n",
        "import string\n",
        "def generate_password(lnth):\n",
        "    if lnth < 4:\n",
        "        return \"Password length should be at least 4 for security reasons.\"\n",
        "\n",
        "    characters = string.ascii_letters + string.digits + string.punctuation\n",
        "\n",
        "    password = [\n",
        "\n",
        "        random.choice(string.ascii_lowercase),\n",
        "        random.choice(string.ascii_uppercase),\n",
        "        random.choice(string.digits),\n",
        "        random.choice(string.punctuation)\n",
        "    ]\n",
        "    password += random.choices(characters, k=length - 4)\n",
        "    random.shuffle(password)\n",
        "    return ''.join(password)\n",
        "try:\n",
        "    lnth = int(input(\"Enter the desired password length: \"))\n",
        "    print(\"Generated password:\", generate_password(lnth))\n",
        "\n",
        "except ValueError:\n",
        "    print(\"Please enter a valid integer for password length\")\n"
      ],
      "metadata": {
        "id": "BFVrkEi9fNiD",
        "colab": {
          "base_uri": "https://localhost:8080/"
        },
        "outputId": "c34aaa6e-48be-45f5-9d52-f5f30bf5d167"
      },
      "execution_count": 16,
      "outputs": [
        {
          "output_type": "stream",
          "name": "stdout",
          "text": [
            "Enter the desired password length: 7\n",
            "Generated password: aoC8'_Ib\n"
          ]
        }
      ]
    },
    {
      "cell_type": "markdown",
      "source": [
        "# Try these questions"
      ],
      "metadata": {
        "id": "6SmvS7nSfbj8"
      }
    },
    {
      "cell_type": "markdown",
      "source": [
        "(21) Define a base class called 'Vehicle' with attributes make and model. Create a derived class Car that inherits from Vehicle and has an additional attribute 'num_doors'. Demonstrate an example of creating an instance of the 'Car' class and accessing its attributes."
      ],
      "metadata": {
        "id": "cboAr5pEWUf5"
      }
    },
    {
      "cell_type": "code",
      "source": [
        "# write your answer here\n",
        "\n",
        "class Vehicle:\n",
        "    def __init__(self, make, model):\n",
        "        self.make = make\n",
        "        self.model = model\n",
        "\n",
        "class Car(Vehicle):\n",
        "    def __init__(self, make, model, num_doors):\n",
        "        super().__init__(make, model)\n",
        "        self.num_doors = num_doors\n",
        "\n",
        "# Example usage\n",
        "my_car = Car(\"Subaru\", \"Impreza\", 4)\n",
        "\n",
        "print(f\"Make: {my_car.make}\")\n",
        "print(f\"Model: {my_car.model}\")\n",
        "print(f\"Number of doors: {my_car.num_doors}\")\n"
      ],
      "metadata": {
        "id": "phs9gciMWWAW",
        "colab": {
          "base_uri": "https://localhost:8080/"
        },
        "outputId": "ae83ab96-9fa4-4dbd-914e-4badac562f8c"
      },
      "execution_count": 18,
      "outputs": [
        {
          "output_type": "stream",
          "name": "stdout",
          "text": [
            "Make: Subaru\n",
            "Model: Impreza\n",
            "Number of doors: 4\n"
          ]
        }
      ]
    },
    {
      "cell_type": "markdown",
      "source": [
        "(22) Create a class called 'Shape' with a method calculate_area(). Implement two derived classes 'Circle' and 'Rectangle' that inherit from Shape and override the calculate_area() method. Demonstrate polymorphism by creating instances of both derived classes and calling the calculate_area() method."
      ],
      "metadata": {
        "id": "J8HHefNtePwd"
      }
    },
    {
      "cell_type": "code",
      "source": [
        "# write your answer here\n",
        "import math\n",
        "\n",
        "class Shape:\n",
        "    def calculate_area(self):\n",
        "        raise NotImplementedError(\"Subclasses must override calculate_area()\")\n",
        "\n",
        "\n",
        "class Circle(Shape):\n",
        "    def __init__(self, radius):\n",
        "        self.radius = radius\n",
        "\n",
        "    def calculate_area(self):\n",
        "        return math.pi * self.radius ** 2\n",
        "\n",
        "\n",
        "class Rectangle(Shape):\n",
        "    def __init__(self, width, height):\n",
        "        self.width = width\n",
        "        self.height = height\n",
        "\n",
        "    def calculate_area(self):\n",
        "        return self.width * self.height\n",
        "\n",
        "shapes = [\n",
        "    Circle(6),\n",
        "    Rectangle(2,4)\n",
        "]\n",
        "\n",
        "for shape in shapes:\n",
        "    print(f\"Area: {shape.calculate_area():.2f}\")\n"
      ],
      "metadata": {
        "id": "btnMmUZDeRhS",
        "colab": {
          "base_uri": "https://localhost:8080/"
        },
        "outputId": "744665f8-6256-4b3e-8cb8-5b807f31d89e"
      },
      "execution_count": 22,
      "outputs": [
        {
          "output_type": "stream",
          "name": "stdout",
          "text": [
            "Area: 113.10\n",
            "Area: 8.00\n"
          ]
        }
      ]
    },
    {
      "cell_type": "markdown",
      "source": [
        "(23) Write a Python program that prompts the user to enter two numbers and perform a division operation. Handle exceptions for both zero division and invalid input (non-numeric input). Display appropriate error messages for each type of exception and ensure the program does not crash due to these errors."
      ],
      "metadata": {
        "id": "z0oqEAlTeMUS"
      }
    },
    {
      "cell_type": "code",
      "source": [
        "# write your answer here\n",
        "def divide_numbers():\n",
        "    try:\n",
        "        num1 = float(input(\"Enter the numerator: \"))\n",
        "        num2 = float(input(\"Enter the denominator: \"))\n",
        "        result = num1/ num2\n",
        "    except ValueError:\n",
        "        print(\"Error: Please enter valid numeric values.\")\n",
        "    except ZeroDivisionError:\n",
        "        print(\"Error: Division by zero is not allowed.\")\n",
        "    else:\n",
        "        print(f\"The result of {num1} / {num2} is {result}\")\n",
        "\n",
        "if __name__ == \"__main__\":\n",
        "    divide_numbers()\n",
        "\n"
      ],
      "metadata": {
        "id": "yjdc1zM1eMAs",
        "colab": {
          "base_uri": "https://localhost:8080/"
        },
        "outputId": "8041222d-d5a5-4f1f-b2ea-a07306fe194f"
      },
      "execution_count": 23,
      "outputs": [
        {
          "output_type": "stream",
          "name": "stdout",
          "text": [
            "Enter the numerator: 7\n",
            "Enter the denominator: 4\n",
            "The result of 7.0 / 4.0 is 1.75\n"
          ]
        }
      ]
    },
    {
      "cell_type": "markdown",
      "source": [
        "# Mandatory Question"
      ],
      "metadata": {
        "id": "sZOhks1dXWEe"
      }
    },
    {
      "cell_type": "markdown",
      "source": [
        "**Important:**\n",
        "Reflecting on the first three lectures and the exercises you've completed, please provide feedback on your learning experience. Share your thoughts on whether the material covered was clear, the exercises were helpful, and if you feel more confident in applying Python programming concepts. Additionally, mention any specific areas where you would like more clarification or topics you would like to explore further in future lectures. Your feedback is valuable in shaping the course for an effective learning journey."
      ],
      "metadata": {
        "id": "eqmHVEwaWhbV"
      }
    },
    {
      "cell_type": "code",
      "source": [
        "\n",
        "'''\n",
        "I'm at the starting stage in learning coding. I felt that the first three lectures especially the python basics were very useful. I was like refreshing my knowledge on those topics. Then, about this assignment, I feel this as very helpful to learn and implement the code in a useful manner. This also enable me to learn relevant new topics that i used to solve the problems.So, overall I feel confident about getting into new topics through this course. I hope to learn a lot in python in a practical way. '''"
      ],
      "metadata": {
        "id": "akAVJn9YBTQT",
        "colab": {
          "base_uri": "https://localhost:8080/",
          "height": 70
        },
        "outputId": "b5521a4b-5f4e-4978-ab90-af2e52fe2720"
      },
      "execution_count": 38,
      "outputs": [
        {
          "output_type": "execute_result",
          "data": {
            "text/plain": [
              "\"\\nI'm at the starting stage in learning coding. I felt that the first three lectures especially the python basics were very useful. I was like refreshing my knowledge on those topics. Then, about this assignment, I feel this as very helpful to learn and implement the code in a useful manner. This also enable me to learn relevant new topics that i used to solve the problems.So, overall I feel confident about getting into new topics through this course. I hope to learn a lot in python in a practical way. \""
            ],
            "application/vnd.google.colaboratory.intrinsic+json": {
              "type": "string"
            }
          },
          "metadata": {},
          "execution_count": 38
        }
      ]
    },
    {
      "cell_type": "markdown",
      "source": [
        " Google collaboration Link: https://colab.research.google.com/drive/1HOgFu5h_5eIjC3NdLEaqkBcfmxKZnOLp?usp=sharing"
      ],
      "metadata": {
        "id": "_zKrpn0ZaHjx"
      }
    }
  ],
  "metadata": {
    "colab": {
      "provenance": [],
      "include_colab_link": true
    },
    "kernelspec": {
      "display_name": "Python 3 (ipykernel)",
      "language": "python",
      "name": "python3"
    },
    "language_info": {
      "codemirror_mode": {
        "name": "ipython",
        "version": 3
      },
      "file_extension": ".py",
      "mimetype": "text/x-python",
      "name": "python",
      "nbconvert_exporter": "python",
      "pygments_lexer": "ipython3",
      "version": "3.9.12"
    }
  },
  "nbformat": 4,
  "nbformat_minor": 0
}