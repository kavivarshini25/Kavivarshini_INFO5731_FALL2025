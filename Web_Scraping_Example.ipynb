{
  "nbformat": 4,
  "nbformat_minor": 0,
  "metadata": {
    "colab": {
      "provenance": [],
      "authorship_tag": "ABX9TyMEtQZcODZKE2t7iZjugpN8",
      "include_colab_link": true
    },
    "kernelspec": {
      "name": "python3",
      "display_name": "Python 3"
    },
    "language_info": {
      "name": "python"
    }
  },
  "cells": [
    {
      "cell_type": "markdown",
      "metadata": {
        "id": "view-in-github",
        "colab_type": "text"
      },
      "source": [
        "<a href=\"https://colab.research.google.com/github/kavivarshini25/Kavivarshini_INFO5731_FALL2025/blob/main/Web_Scraping_Example.ipynb\" target=\"_parent\"><img src=\"https://colab.research.google.com/assets/colab-badge.svg\" alt=\"Open In Colab\"/></a>"
      ]
    },
    {
      "cell_type": "code",
      "execution_count": 1,
      "metadata": {
        "colab": {
          "base_uri": "https://localhost:8080/"
        },
        "id": "V2qrQyJI6M9B",
        "outputId": "4bd0fb03-5ad0-469a-9b05-a284d943edc4"
      },
      "outputs": [
        {
          "output_type": "stream",
          "name": "stdout",
          "text": [
            "Scraping complete. Saved 63 cases to supreme_court_cases_2025.json\n"
          ]
        }
      ],
      "source": [
        "import requests\n",
        "from bs4 import BeautifulSoup\n",
        "import json\n",
        "import re\n",
        "\n",
        "# Target page for 2025 cases\n",
        "base_url = \"https://supreme.justia.com\"\n",
        "url = f\"{base_url}/cases/federal/us/year/2025.html\"\n",
        "\n",
        "# Fetch the page\n",
        "response = requests.get(url)\n",
        "response.encoding = \"utf-8\"  # handle encoding\n",
        "soup = BeautifulSoup(response.text, \"html.parser\")\n",
        "\n",
        "# Container for scraped data\n",
        "cases_data = []\n",
        "\n",
        "# Each case block is inside the \"results\" section\n",
        "cases = soup.select(\"div.results.zebra.has-negative-sides-30.-overflow-hidden > div\")\n",
        "\n",
        "for case in cases:\n",
        "    try:\n",
        "        # Case title (clean unwanted characters)\n",
        "        title_tag = case.find(\"a\")\n",
        "        case_title = title_tag.get_text(strip=True) if title_tag else None\n",
        "\n",
        "        # Case URL\n",
        "        case_url = base_url + title_tag[\"href\"] if title_tag and title_tag.has_attr(\"href\") else None\n",
        "\n",
        "        # Docket Number\n",
        "        docket_tag = case.find(\"strong\")\n",
        "        docket_number = docket_tag.get_text(strip=True) if docket_tag else None\n",
        "\n",
        "        # Court Name (Justia lists it after docket)\n",
        "        court_name = None\n",
        "        strongs = case.find_all(\"strong\")\n",
        "        if len(strongs) > 1:\n",
        "            court_name = strongs[1].get_text(strip=True)\n",
        "\n",
        "        # Date (usually inside <span>)\n",
        "        date_tag = case.find(\"span\", class_=\"date\")\n",
        "        date = date_tag.get_text(strip=True) if date_tag else None\n",
        "\n",
        "        # Visit the case page to get Justia Opinion Summary\n",
        "        summary_text = None\n",
        "        if case_url:\n",
        "            case_page = requests.get(case_url)\n",
        "            case_page.encoding = \"utf-8\"\n",
        "            case_soup = BeautifulSoup(case_page.text, \"html.parser\")\n",
        "\n",
        "            summary_tag = case_soup.find(\"div\", class_=\"case-syllabus\")\n",
        "            if summary_tag:\n",
        "                summary_text = re.sub(r\"\\s+\", \" \", summary_tag.get_text(strip=True))\n",
        "\n",
        "        # Store in dictionary\n",
        "        case_info = {\n",
        "            \"Case Title\": case_title,\n",
        "            \"Docket Number\": docket_number,\n",
        "            \"Court Name\": court_name,\n",
        "            \"Date\": date,\n",
        "            \"Case URL\": case_url,\n",
        "            \"Justia Opinion Summary\": summary_text\n",
        "        }\n",
        "\n",
        "        # Clean text (remove undesirable symbols)\n",
        "        for key in case_info:\n",
        "            if isinstance(case_info[key], str):\n",
        "                case_info[key] = case_info[key].replace(\"\\xa0\", \" \").replace(\"�\", \"\").strip()\n",
        "\n",
        "        cases_data.append(case_info)\n",
        "\n",
        "    except Exception as e:\n",
        "        print(f\"Error scraping case: {e}\")\n",
        "        continue\n",
        "\n",
        "# Save to JSON\n",
        "output_file = \"supreme_court_cases_2025.json\"\n",
        "with open(output_file, \"w\", encoding=\"utf-8\") as f:\n",
        "    json.dump(cases_data, f, ensure_ascii=False, indent=4)\n",
        "\n",
        "print(f\"Scraping complete. Saved {len(cases_data)} cases to {output_file}\")\n"
      ]
    },
    {
      "cell_type": "code",
      "source": [
        "from google.colab import files\n",
        "files.download(\"supreme_court_cases_2025.json\")"
      ],
      "metadata": {
        "colab": {
          "base_uri": "https://localhost:8080/",
          "height": 17
        },
        "id": "fMhgGGew7JEc",
        "outputId": "4669ac13-61fb-41b3-f624-79fe8d6863a6"
      },
      "execution_count": 2,
      "outputs": [
        {
          "output_type": "display_data",
          "data": {
            "text/plain": [
              "<IPython.core.display.Javascript object>"
            ],
            "application/javascript": [
              "\n",
              "    async function download(id, filename, size) {\n",
              "      if (!google.colab.kernel.accessAllowed) {\n",
              "        return;\n",
              "      }\n",
              "      const div = document.createElement('div');\n",
              "      const label = document.createElement('label');\n",
              "      label.textContent = `Downloading \"${filename}\": `;\n",
              "      div.appendChild(label);\n",
              "      const progress = document.createElement('progress');\n",
              "      progress.max = size;\n",
              "      div.appendChild(progress);\n",
              "      document.body.appendChild(div);\n",
              "\n",
              "      const buffers = [];\n",
              "      let downloaded = 0;\n",
              "\n",
              "      const channel = await google.colab.kernel.comms.open(id);\n",
              "      // Send a message to notify the kernel that we're ready.\n",
              "      channel.send({})\n",
              "\n",
              "      for await (const message of channel.messages) {\n",
              "        // Send a message to notify the kernel that we're ready.\n",
              "        channel.send({})\n",
              "        if (message.buffers) {\n",
              "          for (const buffer of message.buffers) {\n",
              "            buffers.push(buffer);\n",
              "            downloaded += buffer.byteLength;\n",
              "            progress.value = downloaded;\n",
              "          }\n",
              "        }\n",
              "      }\n",
              "      const blob = new Blob(buffers, {type: 'application/binary'});\n",
              "      const a = document.createElement('a');\n",
              "      a.href = window.URL.createObjectURL(blob);\n",
              "      a.download = filename;\n",
              "      div.appendChild(a);\n",
              "      a.click();\n",
              "      div.remove();\n",
              "    }\n",
              "  "
            ]
          },
          "metadata": {}
        },
        {
          "output_type": "display_data",
          "data": {
            "text/plain": [
              "<IPython.core.display.Javascript object>"
            ],
            "application/javascript": [
              "download(\"download_d9192c8e-97d6-4917-9fc1-7732d94f57be\", \"supreme_court_cases_2025.json\", 19726)"
            ]
          },
          "metadata": {}
        }
      ]
    }
  ]
}