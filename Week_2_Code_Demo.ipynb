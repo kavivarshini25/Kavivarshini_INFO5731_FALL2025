{
  "cells": [
    {
      "cell_type": "markdown",
      "metadata": {
        "id": "view-in-github",
        "colab_type": "text"
      },
      "source": [
        "<a href=\"https://colab.research.google.com/github/kavivarshini25/Kavivarshini_INFO5731_FALL2025/blob/main/Week_2_Code_Demo.ipynb\" target=\"_parent\"><img src=\"https://colab.research.google.com/assets/colab-badge.svg\" alt=\"Open In Colab\"/></a>"
      ]
    },
    {
      "cell_type": "markdown",
      "id": "cf01c8d6",
      "metadata": {
        "id": "cf01c8d6"
      },
      "source": [
        "# Comments"
      ]
    },
    {
      "cell_type": "markdown",
      "id": "353a6e1c-80f3-47c1-8740-a46583e35211",
      "metadata": {
        "id": "353a6e1c-80f3-47c1-8740-a46583e35211"
      },
      "source": [
        "How to write comments?"
      ]
    },
    {
      "cell_type": "code",
      "execution_count": 1,
      "id": "18a03c18",
      "metadata": {
        "colab": {
          "base_uri": "https://localhost:8080/"
        },
        "id": "18a03c18",
        "outputId": "c9509eae-cce2-4602-8765-0f6c1bd4ed89"
      },
      "outputs": [
        {
          "output_type": "stream",
          "name": "stdout",
          "text": [
            "Hello, World!\n"
          ]
        }
      ],
      "source": [
        "#This is a comment\n",
        "print(\"Hello, World!\")"
      ]
    },
    {
      "cell_type": "code",
      "execution_count": 2,
      "id": "94f0390e",
      "metadata": {
        "colab": {
          "base_uri": "https://localhost:8080/"
        },
        "id": "94f0390e",
        "outputId": "b380a295-7391-4c13-f3c7-1d1e7147c0c1"
      },
      "outputs": [
        {
          "output_type": "stream",
          "name": "stdout",
          "text": [
            "Hello, World!\n"
          ]
        }
      ],
      "source": [
        "\"\"\"\n",
        "This is a comment\n",
        "written in\n",
        "more than just one line\n",
        "\"\"\"\n",
        "print(\"Hello, World!\")"
      ]
    },
    {
      "cell_type": "markdown",
      "id": "f49f0966",
      "metadata": {
        "id": "f49f0966"
      },
      "source": [
        "# Bitwise Operators"
      ]
    },
    {
      "cell_type": "code",
      "execution_count": 1,
      "id": "65ca3155",
      "metadata": {
        "colab": {
          "base_uri": "https://localhost:8080/"
        },
        "id": "65ca3155",
        "outputId": "25c74986-ac39-4e04-f764-37ed3b6c3f40"
      },
      "outputs": [
        {
          "output_type": "stream",
          "name": "stdout",
          "text": [
            "a&b is 3\n",
            "a|b is 11\n",
            "a^b is 8\n",
            "a<<b is 88\n",
            "a>>b is 1\n"
          ]
        }
      ],
      "source": [
        "a = 11\n",
        "b = 3\n",
        "\n",
        "\"\"\"\n",
        "a = 11: In binary, 11 is 1011.\n",
        "b = 3:   In binary, 3 is 0011.\n",
        "\"\"\"\n",
        "\n",
        "print(\"a&b is\", a&b)  # Sets each bit to 1 if both bits are 1\n",
        "print(\"a|b is\", a|b)  # Sets each bit to 1 if one of two bits is 1\n",
        "print(\"a^b is\", a^b)  # If the two corresponding bits are different, the result is 1; if they are the same, the result is 0.\n",
        "print(\"a<<b is\", a<<b) # Shift left by pushing zeros in from the right and let the leftmost bits fall off\n",
        "print(\"a>>b is\", a>>b) # Shift right by pushing copies of the leftmost bit in from the left, and let the rightmost bits fall off"
      ]
    },
    {
      "cell_type": "markdown",
      "id": "4a8c964b",
      "metadata": {
        "id": "4a8c964b"
      },
      "source": [
        "# For loops"
      ]
    },
    {
      "cell_type": "code",
      "execution_count": 6,
      "id": "b2d89b02-c1a6-4945-9040-e7485e3ca434",
      "metadata": {
        "colab": {
          "base_uri": "https://localhost:8080/"
        },
        "id": "b2d89b02-c1a6-4945-9040-e7485e3ca434",
        "outputId": "287a6dd5-db52-4a32-bbd1-a4d521e2aef0"
      },
      "outputs": [
        {
          "output_type": "stream",
          "name": "stdout",
          "text": [
            "apple\n",
            "banana\n",
            "cherry\n"
          ]
        }
      ],
      "source": [
        "fruits = [\"apple\", \"banana\", \"cherry\"]\n",
        "for x in fruits:\n",
        "    print(x)"
      ]
    },
    {
      "cell_type": "code",
      "execution_count": 3,
      "id": "f46fb28e-467d-45a0-ac26-fdbc65096a39",
      "metadata": {
        "colab": {
          "base_uri": "https://localhost:8080/"
        },
        "id": "f46fb28e-467d-45a0-ac26-fdbc65096a39",
        "outputId": "c2667630-b08b-4c59-f390-67c72a14473c"
      },
      "outputs": [
        {
          "output_type": "stream",
          "name": "stdout",
          "text": [
            "apple\n"
          ]
        }
      ],
      "source": [
        "# break statement\n",
        "\n",
        "fruits = [\"apple\", \"banana\", \"cherry\"]\n",
        "for x in fruits:\n",
        "    if x == \"banana\":\n",
        "        break\n",
        "    print(x)"
      ]
    },
    {
      "cell_type": "code",
      "execution_count": 7,
      "id": "bd8b46f6-7ef0-4d8d-aedb-09b0f979a3f0",
      "metadata": {
        "colab": {
          "base_uri": "https://localhost:8080/"
        },
        "id": "bd8b46f6-7ef0-4d8d-aedb-09b0f979a3f0",
        "outputId": "f9b4561c-94ef-41c0-d907-bab4ed0e2b02"
      },
      "outputs": [
        {
          "output_type": "stream",
          "name": "stdout",
          "text": [
            "apple\n",
            "cherry\n"
          ]
        }
      ],
      "source": [
        "# continue statement\n",
        "\n",
        "fruits = [\"apple\", \"banana\", \"cherry\"]\n",
        "for x in fruits:\n",
        "    if x == \"banana\":\n",
        "        continue\n",
        "    print(x)"
      ]
    },
    {
      "cell_type": "code",
      "execution_count": 8,
      "id": "a37d7a42-24c2-4931-a40e-99408d5bd7f0",
      "metadata": {
        "id": "a37d7a42-24c2-4931-a40e-99408d5bd7f0",
        "outputId": "41483775-debe-4c0e-a44e-5561e0c89a7a",
        "colab": {
          "base_uri": "https://localhost:8080/"
        }
      },
      "outputs": [
        {
          "output_type": "stream",
          "name": "stdout",
          "text": [
            "apple\n",
            "banana\n",
            "cherry\n"
          ]
        }
      ],
      "source": [
        "# Pass statement\n",
        "# It is a null operation—nothing happens when it executes (placeholder)\n",
        "\n",
        "fruits = [\"apple\", \"banana\", \"cherry\"]\n",
        "for x in fruits:\n",
        "    if x == \"banana\":\n",
        "        pass\n",
        "    print(x)"
      ]
    },
    {
      "cell_type": "markdown",
      "id": "KokIUMwUslOt",
      "metadata": {
        "id": "KokIUMwUslOt"
      },
      "source": [
        "# While loop"
      ]
    },
    {
      "cell_type": "code",
      "execution_count": 9,
      "id": "57f92670-237b-4dee-85a4-659424f7c33f",
      "metadata": {
        "colab": {
          "base_uri": "https://localhost:8080/"
        },
        "id": "57f92670-237b-4dee-85a4-659424f7c33f",
        "outputId": "70b65b38-d51a-40da-fd23-c052eef5812c"
      },
      "outputs": [
        {
          "output_type": "stream",
          "name": "stdout",
          "text": [
            "1\n",
            "2\n",
            "3\n"
          ]
        }
      ],
      "source": [
        "i = 1\n",
        "while i < 6:\n",
        "  print(i)\n",
        "  if i == 3:\n",
        "    break\n",
        "  i += 1"
      ]
    },
    {
      "cell_type": "code",
      "execution_count": 10,
      "id": "8BKxK-Rotl-6",
      "metadata": {
        "colab": {
          "base_uri": "https://localhost:8080/"
        },
        "id": "8BKxK-Rotl-6",
        "outputId": "fc22f01a-af7f-43e9-be14-0f6143dc8a26"
      },
      "outputs": [
        {
          "output_type": "stream",
          "name": "stdout",
          "text": [
            "1\n",
            "2\n",
            "3\n",
            "4\n",
            "5\n"
          ]
        }
      ],
      "source": [
        "i = 1\n",
        "while i < 6:\n",
        "  print(i)\n",
        "  i += 1"
      ]
    },
    {
      "cell_type": "markdown",
      "id": "7734f9aa",
      "metadata": {
        "id": "7734f9aa"
      },
      "source": [
        "# Lists\n",
        "Lists are used to store multiple items in a single variable.\n",
        "\n",
        "Lists are one of 4 built-in data types in Python used to store collections of data, the other 3 are Tuple, Set, and Dictionary, all with different qualities and usage.\n",
        "\n",
        "Lists are created using square brackets"
      ]
    },
    {
      "cell_type": "code",
      "execution_count": 11,
      "id": "dd1ca05d-d36f-4911-9b82-de4722bb6016",
      "metadata": {
        "colab": {
          "base_uri": "https://localhost:8080/"
        },
        "id": "dd1ca05d-d36f-4911-9b82-de4722bb6016",
        "outputId": "e53baea6-a671-4f83-ac9b-70fcd04a2e1c"
      },
      "outputs": [
        {
          "output_type": "stream",
          "name": "stdout",
          "text": [
            "1\n",
            "apple\n"
          ]
        }
      ],
      "source": [
        "# Index\n",
        "\n",
        "my_list = [1, 2, 3, \"apple\", \"banana\", True]\n",
        "\n",
        "print(my_list[0])  # Output: 1\n",
        "print(my_list[3])  # Output: \"apple\""
      ]
    },
    {
      "cell_type": "code",
      "execution_count": 12,
      "id": "efa6bc49-cfd4-4ff8-9366-1ceca0a78580",
      "metadata": {
        "colab": {
          "base_uri": "https://localhost:8080/"
        },
        "id": "efa6bc49-cfd4-4ff8-9366-1ceca0a78580",
        "outputId": "2019a355-5c47-4a8c-c922-b93f13802f18"
      },
      "outputs": [
        {
          "output_type": "stream",
          "name": "stdout",
          "text": [
            "['cherry', 'orange', 'kiwi']\n"
          ]
        }
      ],
      "source": [
        "# Range of indexes\n",
        "\n",
        "thislist = [\"apple\", \"banana\", \"cherry\", \"orange\", \"kiwi\", \"melon\", \"mango\"]\n",
        "print(thislist[2:5])"
      ]
    },
    {
      "cell_type": "code",
      "execution_count": 13,
      "id": "f8e57e0f-5b80-4395-8739-fb47e0a3defd",
      "metadata": {
        "id": "f8e57e0f-5b80-4395-8739-fb47e0a3defd",
        "outputId": "5ff5acca-bd32-407c-f274-0c3076487358",
        "colab": {
          "base_uri": "https://localhost:8080/"
        }
      },
      "outputs": [
        {
          "output_type": "stream",
          "name": "stdout",
          "text": [
            "['orange', 'kiwi', 'melon']\n"
          ]
        }
      ],
      "source": [
        "# Specify negative indexes if you want to start the search from the end of the list:\n",
        "\n",
        "thislist = [\"apple\", \"banana\", \"cherry\", \"orange\", \"kiwi\", \"melon\", \"mango\"]\n",
        "print(thislist[-4:-1])"
      ]
    },
    {
      "cell_type": "code",
      "execution_count": 14,
      "id": "8be048dd-9126-4d10-a2ab-0ca775256568",
      "metadata": {
        "id": "8be048dd-9126-4d10-a2ab-0ca775256568",
        "outputId": "f7aff742-3233-4aad-941b-0dc10dec7568",
        "colab": {
          "base_uri": "https://localhost:8080/"
        }
      },
      "outputs": [
        {
          "output_type": "stream",
          "name": "stdout",
          "text": [
            "['apple', 'banana', 'cherry', 'orange']\n"
          ]
        }
      ],
      "source": [
        "# Add an element to a list\n",
        "\n",
        "thislist = [\"apple\", \"banana\", \"cherry\"]\n",
        "thislist.append(\"orange\")\n",
        "print(thislist)"
      ]
    },
    {
      "cell_type": "code",
      "execution_count": 15,
      "id": "a83895fa-7181-4bed-bc3d-13106a87cb9b",
      "metadata": {
        "id": "a83895fa-7181-4bed-bc3d-13106a87cb9b",
        "outputId": "0820aa2d-6e06-4fdd-dd27-2f5931aab1f7",
        "colab": {
          "base_uri": "https://localhost:8080/"
        }
      },
      "outputs": [
        {
          "output_type": "stream",
          "name": "stdout",
          "text": [
            "['apple', 'orange', 'banana', 'cherry']\n"
          ]
        }
      ],
      "source": [
        "# Add an element to a list with index\n",
        "\n",
        "thislist = [\"apple\", \"banana\", \"cherry\"]\n",
        "\n",
        "thislist.insert(1, \"orange\")\n",
        "print(thislist)"
      ]
    },
    {
      "cell_type": "code",
      "execution_count": 16,
      "id": "b5ca3d30-8005-430e-b7c1-b52e14e58d62",
      "metadata": {
        "colab": {
          "base_uri": "https://localhost:8080/"
        },
        "id": "b5ca3d30-8005-430e-b7c1-b52e14e58d62",
        "outputId": "00056957-4c07-4747-d90c-427a1f37f621"
      },
      "outputs": [
        {
          "output_type": "stream",
          "name": "stdout",
          "text": [
            "['apple', 'cherry']\n"
          ]
        }
      ],
      "source": [
        "# The remove() method removes the specified item.\n",
        "\n",
        "thislist = [\"apple\", \"banana\", \"cherry\"]\n",
        "thislist.remove(\"banana\")\n",
        "print(thislist)"
      ]
    },
    {
      "cell_type": "code",
      "execution_count": 17,
      "id": "fbe09a93-7d0a-4e1c-90e7-a31567ec63f3",
      "metadata": {
        "colab": {
          "base_uri": "https://localhost:8080/"
        },
        "id": "fbe09a93-7d0a-4e1c-90e7-a31567ec63f3",
        "outputId": "23b04524-141d-4c9c-feaa-39b8f407aeb4"
      },
      "outputs": [
        {
          "output_type": "stream",
          "name": "stdout",
          "text": [
            "['apple', 'cherry']\n",
            "['apple', 'banana']\n"
          ]
        }
      ],
      "source": [
        "# The pop() method removes the specified index.\n",
        "\n",
        "thislist = [\"apple\", \"banana\", \"cherry\"]\n",
        "thislist.pop(1)\n",
        "print(thislist)\n",
        "\n",
        "thislist = [\"apple\", \"banana\", \"cherry\"]\n",
        "thislist.pop()\n",
        "print(thislist)"
      ]
    },
    {
      "cell_type": "code",
      "execution_count": 18,
      "id": "9cf8f427-22a5-4f6f-b351-67fa3d8d407b",
      "metadata": {
        "id": "9cf8f427-22a5-4f6f-b351-67fa3d8d407b",
        "outputId": "975f2e1e-8705-434a-820a-559bb4b01230",
        "colab": {
          "base_uri": "https://localhost:8080/"
        }
      },
      "outputs": [
        {
          "output_type": "execute_result",
          "data": {
            "text/plain": [
              "[15, 14, 13, 12, 11, 10]"
            ]
          },
          "metadata": {},
          "execution_count": 18
        }
      ],
      "source": [
        "# reverse a list\n",
        "\n",
        "lst = [10, 11, 12, 13, 14, 15]\n",
        "reversed_list = lst[::-1]\n",
        "reversed_list"
      ]
    },
    {
      "cell_type": "code",
      "execution_count": 19,
      "id": "11c688bf-8ffd-4921-a4fd-7efa4ef1da98",
      "metadata": {
        "colab": {
          "base_uri": "https://localhost:8080/"
        },
        "id": "11c688bf-8ffd-4921-a4fd-7efa4ef1da98",
        "outputId": "42b3bd81-f4ad-4ef0-f30d-467363b4ea8f"
      },
      "outputs": [
        {
          "output_type": "execute_result",
          "data": {
            "text/plain": [
              "[10, 12, 14]"
            ]
          },
          "metadata": {},
          "execution_count": 19
        }
      ],
      "source": [
        "# list slicing to select elements from the list with a step of 2/take every second element\n",
        "\n",
        "lst = [10, 11, 12, 13, 14, 15]\n",
        "lst[::2]"
      ]
    },
    {
      "cell_type": "code",
      "execution_count": 20,
      "id": "c5a7d490-992f-4735-8d1a-c5ac03a49184",
      "metadata": {
        "id": "c5a7d490-992f-4735-8d1a-c5ac03a49184",
        "outputId": "aa93c71c-d216-4a45-f060-667a7bffc8ad",
        "colab": {
          "base_uri": "https://localhost:8080/"
        }
      },
      "outputs": [
        {
          "output_type": "stream",
          "name": "stdout",
          "text": [
            "[7, 11, 12, 13, 15, 18]\n"
          ]
        }
      ],
      "source": [
        "# sort the elements in a list\n",
        "\n",
        "lst = [15, 11, 13, 12, 18, 7]\n",
        "lst.sort()\n",
        "print(lst)"
      ]
    },
    {
      "cell_type": "code",
      "execution_count": 21,
      "id": "0d1d4e67-4228-4b0e-b1f0-8d18fa78e8b9",
      "metadata": {
        "id": "0d1d4e67-4228-4b0e-b1f0-8d18fa78e8b9",
        "colab": {
          "base_uri": "https://localhost:8080/"
        },
        "outputId": "89aed7a3-ccbf-4438-a595-a38684d4694b"
      },
      "outputs": [
        {
          "output_type": "stream",
          "name": "stdout",
          "text": [
            "[18, 15, 13, 12, 11, 7]\n"
          ]
        }
      ],
      "source": [
        "# sort the elements in a list in descending order\n",
        "\n",
        "lst = [15, 11, 13, 12, 18, 7]\n",
        "lst.sort(reverse=True) # Descending Order\n",
        "print(lst)"
      ]
    },
    {
      "cell_type": "markdown",
      "id": "e7a0dd91",
      "metadata": {
        "id": "e7a0dd91"
      },
      "source": [
        "# List comprehension\n",
        "List comprehension offers a shorter syntax when you want to create a new list based on the values of an existing list."
      ]
    },
    {
      "cell_type": "code",
      "execution_count": null,
      "id": "9367bfc0",
      "metadata": {
        "colab": {
          "base_uri": "https://localhost:8080/"
        },
        "id": "9367bfc0",
        "outputId": "7f25884c-903e-4df3-d8b1-2ab205ab6966"
      },
      "outputs": [
        {
          "output_type": "stream",
          "name": "stdout",
          "text": [
            "['apple', 'banana', 'mango']\n"
          ]
        }
      ],
      "source": [
        "fruits = [\"apple\", \"banana\", \"cherry\", \"kiwi\", \"mango\"]\n",
        "\n",
        "newlist = [x for x in fruits if \"a\" in x]\n",
        "\n",
        "print(newlist)"
      ]
    },
    {
      "cell_type": "code",
      "execution_count": null,
      "id": "20e8bc57",
      "metadata": {
        "colab": {
          "base_uri": "https://localhost:8080/"
        },
        "id": "20e8bc57",
        "outputId": "2c822394-4fba-4377-aa00-5e212a8158f9"
      },
      "outputs": [
        {
          "output_type": "execute_result",
          "data": {
            "text/plain": [
              "['apple', 'orange', 'cherry', 'kiwi', 'mango']"
            ]
          },
          "metadata": {},
          "execution_count": 21
        }
      ],
      "source": [
        "# if-else in list comprehension\n",
        "\n",
        "newlist = [x if x != \"banana\" else \"orange\" for x in fruits]\n",
        "newlist"
      ]
    },
    {
      "cell_type": "markdown",
      "id": "186D__dHSxaR",
      "metadata": {
        "id": "186D__dHSxaR"
      },
      "source": [
        "# Tuple\n",
        "Tuples are used to store multiple items in a single variable.\n",
        "\n",
        "Tuple is one of 4 built-in data types in Python used to store collections of data, the other 3 are List, Set, and Dictionary, all with different qualities and usage.\n",
        "\n",
        "A tuple is a collection which is ordered and unchangeable.\n",
        "\n",
        "Tuples are written with round brackets.\n",
        "\n",
        "Allow Duplicates"
      ]
    },
    {
      "cell_type": "code",
      "execution_count": null,
      "id": "mSt6RqzMSxrs",
      "metadata": {
        "id": "mSt6RqzMSxrs"
      },
      "outputs": [],
      "source": [
        "mytuple = (\"apple\", \"banana\", \"cherry\")"
      ]
    },
    {
      "cell_type": "markdown",
      "id": "bIzBATwAUm1K",
      "metadata": {
        "id": "bIzBATwAUm1K"
      },
      "source": [
        "# Accessing tuple values"
      ]
    },
    {
      "cell_type": "code",
      "execution_count": null,
      "id": "cGDfOn25SxtO",
      "metadata": {
        "colab": {
          "base_uri": "https://localhost:8080/"
        },
        "id": "cGDfOn25SxtO",
        "outputId": "59751ee9-7c1a-4b3e-95f5-29af9879fc89"
      },
      "outputs": [
        {
          "output_type": "stream",
          "name": "stdout",
          "text": [
            "banana\n"
          ]
        }
      ],
      "source": [
        "thistuple = (\"apple\", \"banana\", \"cherry\")\n",
        "print(thistuple[1])"
      ]
    },
    {
      "cell_type": "markdown",
      "id": "ESC35UH4UkYi",
      "metadata": {
        "id": "ESC35UH4UkYi"
      },
      "source": [
        "# Update values of tuple"
      ]
    },
    {
      "cell_type": "code",
      "execution_count": null,
      "id": "xmw5Ez3kSxyD",
      "metadata": {
        "colab": {
          "base_uri": "https://localhost:8080/"
        },
        "id": "xmw5Ez3kSxyD",
        "outputId": "a572d6a6-7d25-48dd-93a1-7ecf248e6a54"
      },
      "outputs": [
        {
          "output_type": "stream",
          "name": "stdout",
          "text": [
            "('apple', 'kiwi', 'cherry')\n",
            "['apple', 'kiwi', 'cherry']\n"
          ]
        }
      ],
      "source": [
        "x = (\"apple\", \"banana\", \"cherry\")\n",
        "y = list(x) # converting tuple to a list\n",
        "y[1] = \"kiwi\"\n",
        "x = tuple(y)\n",
        "\n",
        "print(x)\n",
        "print(y)"
      ]
    },
    {
      "cell_type": "markdown",
      "id": "82f3ea62",
      "metadata": {
        "id": "82f3ea62"
      },
      "source": [
        "# Sets in python\n",
        "Sets are used to store multiple items in a single variable.\n",
        "\n",
        "Set is one of 4 built-in data types in Python used to store collections of data, the other 3 are List, Tuple, and Dictionary, all with different qualities and usage.\n",
        "\n",
        "A set is a collection which is unordered, unchangeable*, and unindexed."
      ]
    },
    {
      "cell_type": "code",
      "execution_count": null,
      "id": "b39d5d99",
      "metadata": {
        "colab": {
          "base_uri": "https://localhost:8080/"
        },
        "id": "b39d5d99",
        "outputId": "090a901c-eab9-49d0-94ae-1626f56c6500"
      },
      "outputs": [
        {
          "output_type": "stream",
          "name": "stdout",
          "text": [
            "{'banana', 'orange', 'cherry', 'apple'}\n"
          ]
        }
      ],
      "source": [
        "# add elements in set\n",
        "\n",
        "thisset = {\"apple\", \"banana\", \"cherry\"}\n",
        "thisset.add(\"orange\")\n",
        "print(thisset)"
      ]
    },
    {
      "cell_type": "code",
      "execution_count": null,
      "id": "5fb13de7",
      "metadata": {
        "colab": {
          "base_uri": "https://localhost:8080/"
        },
        "id": "5fb13de7",
        "outputId": "95c3cff4-4227-47f3-96ec-9bc808add4ff"
      },
      "outputs": [
        {
          "output_type": "stream",
          "name": "stdout",
          "text": [
            "{'cherry', 'apple'}\n"
          ]
        }
      ],
      "source": [
        "# To remove an item in a set, use the remove()\n",
        "\n",
        "thisset = {\"apple\", \"banana\", \"cherry\"}\n",
        "thisset.remove(\"banana\")\n",
        "print(thisset)"
      ]
    },
    {
      "cell_type": "code",
      "execution_count": null,
      "id": "d7a35e79",
      "metadata": {
        "colab": {
          "base_uri": "https://localhost:8080/"
        },
        "id": "d7a35e79",
        "outputId": "586f3dfb-1442-4521-b377-88e7ed826442"
      },
      "outputs": [
        {
          "output_type": "stream",
          "name": "stdout",
          "text": [
            "banana\n",
            "{'cherry', 'apple'}\n"
          ]
        }
      ],
      "source": [
        "# Remove the last item by using the pop() method\n",
        "\n",
        "thisset = {\"apple\", \"banana\", \"cherry\"}\n",
        "x = thisset.pop()\n",
        "print(x)\n",
        "print(thisset)"
      ]
    },
    {
      "cell_type": "code",
      "execution_count": null,
      "id": "78ebdccd",
      "metadata": {
        "colab": {
          "base_uri": "https://localhost:8080/"
        },
        "id": "78ebdccd",
        "outputId": "e2f22319-69dc-4e9b-b842-154fd024e47a"
      },
      "outputs": [
        {
          "output_type": "execute_result",
          "data": {
            "text/plain": [
              "[1, 2, 3, 4, 5]"
            ]
          },
          "metadata": {},
          "execution_count": 30
        }
      ],
      "source": [
        "# get unique elements in a list\n",
        "\n",
        "sample = [1,1,1,1,2,2,3,3,3,3,4,5]\n",
        "set1 = set(sample)\n",
        "unique = list(set1)\n",
        "unique"
      ]
    },
    {
      "cell_type": "markdown",
      "id": "850ffc92",
      "metadata": {
        "id": "850ffc92"
      },
      "source": [
        "# Dictionaries in python\n",
        "Dictionaries are used to store data values in key:value pairs.\n",
        "\n",
        "A dictionary is a collection which is ordered*, changeable and do not allow duplicates."
      ]
    },
    {
      "cell_type": "code",
      "execution_count": null,
      "id": "4ab49d23",
      "metadata": {
        "id": "4ab49d23",
        "colab": {
          "base_uri": "https://localhost:8080/"
        },
        "outputId": "9c7f2e91-59e4-42fc-b9ae-bb39a60e0055"
      },
      "outputs": [
        {
          "output_type": "stream",
          "name": "stdout",
          "text": [
            "Ford\n"
          ]
        }
      ],
      "source": [
        "thisdict = {\n",
        "  \"brand\": \"Ford\",\n",
        "  \"model\": \"Mustang\",\n",
        "  \"year\": 1964\n",
        "}\n",
        "print(thisdict[\"brand\"])"
      ]
    },
    {
      "cell_type": "code",
      "execution_count": null,
      "id": "fc3998c6",
      "metadata": {
        "id": "fc3998c6",
        "colab": {
          "base_uri": "https://localhost:8080/"
        },
        "outputId": "8e1d95ec-226f-4041-b99b-a2a51a3fb7a7"
      },
      "outputs": [
        {
          "output_type": "stream",
          "name": "stdout",
          "text": [
            "{'brand': 'Ford', 'model': 'Mustang', 'year': 1964, 'color': 'red'}\n"
          ]
        }
      ],
      "source": [
        "# Adding an item to the dictionary is done by using a new index key and assigning a value to it\n",
        "\n",
        "\n",
        "thisdict = {\n",
        "  \"brand\": \"Ford\",\n",
        "  \"model\": \"Mustang\",\n",
        "  \"year\": 1964\n",
        "}\n",
        "thisdict[\"color\"] = \"red\"\n",
        "print(thisdict)"
      ]
    },
    {
      "cell_type": "code",
      "execution_count": null,
      "id": "7c78b593",
      "metadata": {
        "id": "7c78b593",
        "colab": {
          "base_uri": "https://localhost:8080/"
        },
        "outputId": "003393f7-921f-4c64-d02e-842cf0c44c3f"
      },
      "outputs": [
        {
          "output_type": "stream",
          "name": "stdout",
          "text": [
            "{'brand': 'Ford', 'year': 1964}\n"
          ]
        }
      ],
      "source": [
        "# The pop() method removes the item with the specified key name\n",
        "\n",
        "thisdict = {\n",
        "  \"brand\": \"Ford\",\n",
        "  \"model\": \"Mustang\",\n",
        "  \"year\": 1964\n",
        "}\n",
        "thisdict.pop(\"model\")\n",
        "print(thisdict)"
      ]
    },
    {
      "cell_type": "code",
      "execution_count": null,
      "id": "9f220edf",
      "metadata": {
        "id": "9f220edf",
        "colab": {
          "base_uri": "https://localhost:8080/"
        },
        "outputId": "926bd23b-46f5-4086-8c5f-68fc24e55dd7"
      },
      "outputs": [
        {
          "output_type": "stream",
          "name": "stdout",
          "text": [
            "dict_keys(['a', 'b', 'c'])\n",
            "dict_values([100, 200, 300])\n",
            "dict_items([('a', 100), ('b', 200), ('c', 300)])\n"
          ]
        }
      ],
      "source": [
        "# get keys, values, items\n",
        "\n",
        "sample_dict = {'a': 100, 'b':200, 'c':300}\n",
        "\n",
        "print(sample_dict.keys())\n",
        "print(sample_dict.values())\n",
        "print(sample_dict.items())"
      ]
    },
    {
      "cell_type": "markdown",
      "id": "3f6e76b7",
      "metadata": {
        "id": "3f6e76b7"
      },
      "source": [
        "# Dictionaries comprehension"
      ]
    },
    {
      "cell_type": "code",
      "execution_count": null,
      "id": "1e226208",
      "metadata": {
        "colab": {
          "base_uri": "https://localhost:8080/"
        },
        "id": "1e226208",
        "outputId": "ae8f6ea9-51b6-40bc-af48-12157b779fd4"
      },
      "outputs": [
        {
          "output_type": "execute_result",
          "data": {
            "text/plain": [
              "{0: 0, 1: 1, 2: 4, 3: 9, 4: 16, 5: 25, 6: 36, 7: 49, 8: 64, 9: 81}"
            ]
          },
          "metadata": {},
          "execution_count": 5
        }
      ],
      "source": [
        "{x:x**2 for x in range(10)}"
      ]
    },
    {
      "cell_type": "markdown",
      "id": "20f0ca39",
      "metadata": {
        "id": "20f0ca39"
      },
      "source": [
        "# Nesting with Dictionaries"
      ]
    },
    {
      "cell_type": "code",
      "execution_count": null,
      "id": "ca3cb04f",
      "metadata": {
        "id": "ca3cb04f",
        "colab": {
          "base_uri": "https://localhost:8080/",
          "height": 38
        },
        "outputId": "0969c870-b09b-4c4f-d25b-48dfe41ad655"
      },
      "outputs": [
        {
          "output_type": "execute_result",
          "data": {
            "text/plain": [
              "'value'"
            ],
            "application/vnd.google.colaboratory.intrinsic+json": {
              "type": "string"
            }
          },
          "metadata": {},
          "execution_count": 6
        }
      ],
      "source": [
        "d = {'key1':{'nestkey':{'subnestkey':'value'}}}\n",
        "\n",
        "d['key1']['nestkey']['subnestkey']"
      ]
    },
    {
      "cell_type": "markdown",
      "id": "6YY0UmJ5wpMl",
      "metadata": {
        "id": "6YY0UmJ5wpMl"
      },
      "source": [
        "# Lambda function"
      ]
    },
    {
      "cell_type": "code",
      "execution_count": null,
      "id": "mb1fS9LVwgy-",
      "metadata": {
        "id": "mb1fS9LVwgy-",
        "colab": {
          "base_uri": "https://localhost:8080/"
        },
        "outputId": "68e45b4b-5854-4ef7-8d13-3e2eb61be0c8"
      },
      "outputs": [
        {
          "output_type": "stream",
          "name": "stdout",
          "text": [
            "36\n"
          ]
        }
      ],
      "source": [
        "# Lambda function with if but without else.\n",
        "square = lambda x : x*x if (x > 0) else None\n",
        "\n",
        "print(square(6))"
      ]
    },
    {
      "cell_type": "code",
      "execution_count": null,
      "id": "2ORc3RulxP1z",
      "metadata": {
        "colab": {
          "base_uri": "https://localhost:8080/"
        },
        "id": "2ORc3RulxP1z",
        "outputId": "42ec0451-2cca-4b4c-aacd-e21f14b6ec34"
      },
      "outputs": [
        {
          "output_type": "stream",
          "name": "stdout",
          "text": [
            "2\n",
            "10\n"
          ]
        }
      ],
      "source": [
        "# Example of lambda function using if-else\n",
        "max = lambda a, b : a if(a > b) else b\n",
        "\n",
        "print(max(1, 2))\n",
        "print(max(10, 2))"
      ]
    },
    {
      "cell_type": "markdown",
      "id": "a010d7a5",
      "metadata": {
        "id": "a010d7a5"
      },
      "source": [
        "# Factorial of a number"
      ]
    },
    {
      "cell_type": "code",
      "execution_count": null,
      "id": "4f2d74b4",
      "metadata": {
        "id": "4f2d74b4",
        "colab": {
          "base_uri": "https://localhost:8080/"
        },
        "outputId": "a8995760-b0e1-4f11-9b50-ab181ff31399"
      },
      "outputs": [
        {
          "output_type": "stream",
          "name": "stdout",
          "text": [
            "Factorial of 5 is 120\n"
          ]
        }
      ],
      "source": [
        "# To find the factorial of a given number\n",
        "\n",
        "def factorial(n):\n",
        "    if n < 0:\n",
        "        return 0\n",
        "    elif n == 0 or n == 1:\n",
        "        return 1\n",
        "    else:\n",
        "        fact = 1\n",
        "        while(n > 1):\n",
        "            fact *= n\n",
        "            n -= 1\n",
        "            #print(fact)\n",
        "            #if you want to see the result after each step\n",
        "        return fact\n",
        "\n",
        "# Example of 5!\n",
        "num = 5;\n",
        "print(\"Factorial of\", num,\"is\", factorial(num))\n",
        "\n",
        "# This code is contributed by Dharmik Thakkar"
      ]
    },
    {
      "cell_type": "code",
      "execution_count": null,
      "id": "d3fa36c4-160d-4b84-8b09-d0742dabb562",
      "metadata": {
        "id": "d3fa36c4-160d-4b84-8b09-d0742dabb562",
        "colab": {
          "base_uri": "https://localhost:8080/"
        },
        "outputId": "60806f47-3d2c-48d9-d5d2-f0c86b49b963"
      },
      "outputs": [
        {
          "output_type": "stream",
          "name": "stdout",
          "text": [
            "Factorial of 5 is 120\n"
          ]
        }
      ],
      "source": [
        "def factorial(n):\n",
        "    if n < 0:\n",
        "        return 0\n",
        "    elif n == 0 or n == 1:\n",
        "        return 1\n",
        "    else:\n",
        "        result = n * factorial(n - 1)\n",
        "        #print(result)\n",
        "        return result\n",
        "\n",
        "# Example of 5!\n",
        "num = 5;\n",
        "print(\"Factorial of\", num,\"is\", factorial(num))"
      ]
    },
    {
      "cell_type": "markdown",
      "id": "2dc33ac1-5e1b-4898-b20e-f9dd005ebff8",
      "metadata": {
        "id": "2dc33ac1-5e1b-4898-b20e-f9dd005ebff8"
      },
      "source": [
        "# Fibonacci number"
      ]
    },
    {
      "cell_type": "code",
      "execution_count": null,
      "id": "54ee6d66",
      "metadata": {
        "id": "54ee6d66",
        "colab": {
          "base_uri": "https://localhost:8080/"
        },
        "outputId": "bd8c9458-009a-4997-dd37-639d606308df"
      },
      "outputs": [
        {
          "output_type": "stream",
          "name": "stdout",
          "text": [
            "34\n"
          ]
        }
      ],
      "source": [
        "# Function for nth Fibonacci number\n",
        "# Sequence: 0, 1, 1, 2, 3, 5, 8, 13\n",
        "\n",
        "def Fibonacci(n):\n",
        "    if n<= 0:\n",
        "        print(\"Incorrect input\")\n",
        "    # First Fibonacci number is 0\n",
        "    elif n == 1:\n",
        "        return 0\n",
        "    # Second Fibonacci number is 1\n",
        "    elif n == 2:\n",
        "        return 1\n",
        "    else:\n",
        "        return Fibonacci(n-1)+Fibonacci(n-2)\n",
        "\n",
        "\n",
        "print(Fibonacci(10))"
      ]
    },
    {
      "cell_type": "markdown",
      "id": "7828b713-9fbe-44a4-8896-9134f7b3615b",
      "metadata": {
        "id": "7828b713-9fbe-44a4-8896-9134f7b3615b"
      },
      "source": [
        "# Prime number"
      ]
    },
    {
      "cell_type": "code",
      "execution_count": null,
      "id": "8e239f7d-7ff8-4a90-9e3f-609bc15ae6a5",
      "metadata": {
        "id": "8e239f7d-7ff8-4a90-9e3f-609bc15ae6a5",
        "colab": {
          "base_uri": "https://localhost:8080/"
        },
        "outputId": "6e933a3e-61ad-465e-c599-261240b61013"
      },
      "outputs": [
        {
          "output_type": "stream",
          "name": "stdout",
          "text": [
            "29 is a prime number.\n"
          ]
        }
      ],
      "source": [
        "def is_prime(n):\n",
        "    # A prime number is greater than 1 and divisible only by 1 and itself\n",
        "    if n <= 1:\n",
        "        return False\n",
        "    # Check divisibility from 2 to the square root of n\n",
        "    for i in range(2, int(n**0.5) + 1):\n",
        "        if n % i == 0:\n",
        "            return False\n",
        "    return True\n",
        "\n",
        "# Example:\n",
        "number = 29\n",
        "result = is_prime(number)\n",
        "if result:\n",
        "    print(f\"{number} is a prime number.\")\n",
        "else:\n",
        "    print(f\"{number} is not a prime number.\")"
      ]
    },
    {
      "cell_type": "markdown",
      "id": "aNPyu6AqxVX-",
      "metadata": {
        "id": "aNPyu6AqxVX-"
      },
      "source": [
        "# Practice Questions"
      ]
    },
    {
      "cell_type": "markdown",
      "id": "sZ8SAIMvE7i6",
      "metadata": {
        "id": "sZ8SAIMvE7i6"
      },
      "source": [
        "# Q1.) What is the output of the following code??"
      ]
    },
    {
      "cell_type": "code",
      "execution_count": null,
      "id": "kMN-VLF1E7v3",
      "metadata": {
        "id": "kMN-VLF1E7v3"
      },
      "outputs": [],
      "source": [
        "print(9/2)"
      ]
    },
    {
      "cell_type": "code",
      "execution_count": null,
      "id": "1c32bd6d-9e9c-41bd-8fa1-197eef720f56",
      "metadata": {
        "id": "1c32bd6d-9e9c-41bd-8fa1-197eef720f56"
      },
      "outputs": [],
      "source": [
        "print(int(9/2))"
      ]
    },
    {
      "cell_type": "markdown",
      "id": "TSfSGqQpC7v-",
      "metadata": {
        "id": "TSfSGqQpC7v-"
      },
      "source": [
        "# Q2.) What will be the output of the following code snippet?"
      ]
    },
    {
      "cell_type": "code",
      "execution_count": null,
      "id": "f0c5ca7c-20de-4528-9e44-5846109a50e9",
      "metadata": {
        "id": "f0c5ca7c-20de-4528-9e44-5846109a50e9"
      },
      "outputs": [],
      "source": [
        "def func():\n",
        "   global value\n",
        "   value = \"Local\"\n",
        "\n",
        "value = \"Global\"\n",
        "func()\n",
        "print(value)"
      ]
    },
    {
      "cell_type": "markdown",
      "id": "TKMDmeLe5ARX",
      "metadata": {
        "id": "TKMDmeLe5ARX"
      },
      "source": [
        "# Q3.) Short Circuiting\n",
        "\n",
        "What is the output of the following programs?"
      ]
    },
    {
      "cell_type": "code",
      "execution_count": null,
      "id": "fdaa3e58",
      "metadata": {
        "id": "fdaa3e58"
      },
      "outputs": [],
      "source": [
        "l = [1, 2, 3]\n",
        "\n",
        "exp = ((1 == 0) and (l.append(4)))\n",
        "print(l)"
      ]
    },
    {
      "cell_type": "markdown",
      "id": "eae392ec-f6be-482c-be0c-85cc0068b7a1",
      "metadata": {
        "id": "eae392ec-f6be-482c-be0c-85cc0068b7a1"
      },
      "source": [
        "Tip: If the first condition is False, Python does not evaluate the second condition, because the entire \"and\" expression will be False regardless of the second condition."
      ]
    },
    {
      "cell_type": "code",
      "execution_count": null,
      "id": "B1BvQA9n4zWD",
      "metadata": {
        "id": "B1BvQA9n4zWD"
      },
      "outputs": [],
      "source": [
        "l = [1, 2, 3]\n",
        "\n",
        "exp = ((1 != 0) or (l.append(4)))\n",
        "print(l)"
      ]
    },
    {
      "cell_type": "markdown",
      "id": "371220c0-93a2-4fe3-a935-16003068d1e8",
      "metadata": {
        "id": "371220c0-93a2-4fe3-a935-16003068d1e8"
      },
      "source": [
        "Tip: If the first condition is True, Python does not evaluate the second condition, because the entire \"or\" expression will be True regardless of the second condition."
      ]
    },
    {
      "cell_type": "markdown",
      "id": "84iumA_p714C",
      "metadata": {
        "id": "84iumA_p714C"
      },
      "source": [
        "# Q4.) What is the python statement that will result output 6?"
      ]
    },
    {
      "cell_type": "code",
      "execution_count": null,
      "id": "23ec3c5d",
      "metadata": {
        "id": "23ec3c5d"
      },
      "outputs": [],
      "source": [
        "A = [[1, 2, 3],\n",
        "     [4, 5, 6],\n",
        "     [7, 8, 9]]\n",
        "\n",
        "'''\n",
        "a) A[2][1]\n",
        "b) A[1][2]\n",
        "c) A[3][2]\n",
        "d) A[2][3]\n",
        "\n",
        "'''"
      ]
    },
    {
      "cell_type": "markdown",
      "id": "RtdK1isZ9cUY",
      "metadata": {
        "id": "RtdK1isZ9cUY"
      },
      "source": [
        "# Q5.)"
      ]
    },
    {
      "cell_type": "markdown",
      "id": "3riL59b4BTDb",
      "metadata": {
        "id": "3riL59b4BTDb"
      },
      "source": [
        "Which method is best to use when adding an item to the end of a list?\n",
        "\n",
        "A. .insert()\\\n",
        "B. .pop()\\\n",
        "C. .append()\\\n",
        "D. .remove()"
      ]
    },
    {
      "cell_type": "markdown",
      "id": "pTuPRriPB2xc",
      "metadata": {
        "id": "pTuPRriPB2xc"
      },
      "source": [
        "# Q6.) What will be the output of the following code snippet?"
      ]
    },
    {
      "cell_type": "code",
      "execution_count": null,
      "id": "dMnbsVInCIMn",
      "metadata": {
        "id": "dMnbsVInCIMn"
      },
      "outputs": [],
      "source": [
        "a = [1, 2, 3]\n",
        "a = tuple(a)\n",
        "a[0] = 2\n",
        "print(a)"
      ]
    },
    {
      "cell_type": "markdown",
      "id": "72LbQ6d9RvV3",
      "metadata": {
        "id": "72LbQ6d9RvV3"
      },
      "source": [
        "# Q7.) How to get the unique elements from a list?\n",
        "sample = [1,1,1,1,2,2,3,3,3,3,4,5]"
      ]
    },
    {
      "cell_type": "code",
      "execution_count": null,
      "id": "Inp0tw8HRuol",
      "metadata": {
        "id": "Inp0tw8HRuol"
      },
      "outputs": [],
      "source": [
        "sample = [1,1,1,1,2,2,3,3,3,3,4,5]\n",
        "set1 = set(sample)\n",
        "unique = list(set1)\n",
        "unique"
      ]
    }
  ],
  "metadata": {
    "colab": {
      "collapsed_sections": [
        "72LbQ6d9RvV3"
      ],
      "provenance": [],
      "include_colab_link": true
    },
    "kernelspec": {
      "display_name": "Python 3 (ipykernel)",
      "language": "python",
      "name": "python3"
    },
    "language_info": {
      "codemirror_mode": {
        "name": "ipython",
        "version": 3
      },
      "file_extension": ".py",
      "mimetype": "text/x-python",
      "name": "python",
      "nbconvert_exporter": "python",
      "pygments_lexer": "ipython3",
      "version": "3.12.4"
    }
  },
  "nbformat": 4,
  "nbformat_minor": 5
}